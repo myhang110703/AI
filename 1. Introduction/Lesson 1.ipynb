{
  "nbformat": 4,
  "nbformat_minor": 0,
  "metadata": {
    "colab": {
      "provenance": [],
      "authorship_tag": "ABX9TyNNya7fniG0aV1WGNcASDTo",
      "include_colab_link": true
    },
    "kernelspec": {
      "name": "python3",
      "display_name": "Python 3"
    },
    "language_info": {
      "name": "python"
    }
  },
  "cells": [
    {
      "cell_type": "markdown",
      "metadata": {
        "id": "view-in-github",
        "colab_type": "text"
      },
      "source": [
        "<a href=\"https://colab.research.google.com/github/myhang110703/AI/blob/main/1.%20Introduction/Lesson%201.ipynb\" target=\"_parent\"><img src=\"https://colab.research.google.com/assets/colab-badge.svg\" alt=\"Open In Colab\"/></a>"
      ]
    },
    {
      "cell_type": "code",
      "execution_count": null,
      "metadata": {
        "id": "auBBDxvqwbqp"
      },
      "outputs": [],
      "source": []
    },
    {
      "cell_type": "code",
      "source": [
        "r"
      ],
      "metadata": {
        "id": "dhHV_e4Hwv1R"
      },
      "execution_count": null,
      "outputs": []
    },
    {
      "cell_type": "markdown",
      "source": [
        "# `Search problems`\n",
        "agent: entity that perceives its environment and acts upon that environment\n",
        "\n",
        "state: a configuration of the agent and its environment\n",
        "\n",
        "initial state: the state where the agent begins\n",
        "\n",
        "actions: choices that can be made in a state. ACTIONS(X) returns the set of actions that can be executed in state s\n",
        "\n",
        "transition model: a description of what state results from performing any applicable action in any state. RESULT(S,a) returns the state resulting from performing action a in state s\n",
        "\n",
        "state space: the set of all states reachable from the initial state by any sequence of actions\n",
        "\n",
        "goal test: way to determine whether a given state is a goal state\n",
        "\n",
        "path cost: numerical cost associtated with a given path\n",
        "\n",
        "solution: a solution that has the lowest path cost among all solutions\n",
        "\n",
        "node: a data structure that keeps track of\n",
        "- a state\n",
        "- a parent (node that generated this node)\n",
        "- an action (action applied to parent to get node)\n",
        "- a path cost (from inital state to node)\n",
        "\n",
        "approach:\n",
        "start with a frontier that contains the initial state\n",
        "repeat:\n",
        "  If the frontier is empty, then no soultions\n",
        "  remove a node from the frontier\n",
        "  if that node contains goal state, return the solution\n",
        "  expand node, add resulting nodes to the frontier\n",
        "\n",
        "revised approach:\n",
        "start with a frontier that contains the initial state\n",
        "start with an empty explored set\n",
        "repeat:\n",
        "  If the frontier is empty, then no soultion\n",
        "  Remove a node from the frontier\n",
        "  If node contains goal state, return the solution\n",
        "  expand node, add resulting nodes to the frontier if they aren;t already in the frontier or the explored set\n",
        "\n",
        "stack:\n",
        "last in first out data type\n",
        "\n",
        "Depth-first search:\n",
        "search algorithm that always expands the deepest node in the frontier\n",
        "\n",
        "Breadth-first search: always expands the shallowest node in the frontier\n",
        "\n",
        "queue: first in first out data type\n",
        "\n"
      ],
      "metadata": {
        "id": "YDnX8qtmwuRZ"
      }
    },
    {
      "cell_type": "markdown",
      "source": [],
      "metadata": {
        "id": "uUSI7zoOwtm9"
      }
    },
    {
      "cell_type": "markdown",
      "source": [],
      "metadata": {
        "id": "li_P1aQKwciK"
      }
    },
    {
      "cell_type": "code",
      "source": [
        "import sys"
      ],
      "metadata": {
        "id": "c4-palDp_5gJ"
      },
      "execution_count": 19,
      "outputs": []
    },
    {
      "cell_type": "markdown",
      "source": [
        "Class\n",
        "A class is a user-defined blueprint or prototype from which objects are created. Classes provide a means of bundling data and functionality together.\n",
        "An object consists of:\n",
        "\n",
        "State: It is represented by the attributes of an object. It also reflects the properties of an object.\n",
        "Behavior: It is represented by the methods of an object. It also reflects the response of an object to other objects.\n",
        "Identity: It gives a unique name to an object and enables one object to interact with other objects.\n",
        "\n"
      ],
      "metadata": {
        "id": "IodP0Oloh4-0"
      }
    },
    {
      "cell_type": "code",
      "source": [
        "# a class\n",
        "class Dog:\n",
        "   # attribute\n",
        "    attr1 = \"mammal\"\n",
        "    attr2 = \"dog\"\n",
        "    # A sample method\n",
        "    def fun(self):\n",
        "        print(\"I'm a\", self.attr1)\n",
        "        print(\"I'm a\", self.attr2)"
      ],
      "metadata": {
        "id": "_VNKgkHclCZV"
      },
      "execution_count": 1,
      "outputs": []
    },
    {
      "cell_type": "code",
      "source": [
        "Rodger = Dog()"
      ],
      "metadata": {
        "id": "Zz1Cdq18lcRn"
      },
      "execution_count": 2,
      "outputs": []
    },
    {
      "cell_type": "code",
      "source": [
        "print(Rodger.attr1)"
      ],
      "metadata": {
        "id": "Pk3NhXjOmP5a",
        "outputId": "34181e12-1151-4090-dd9a-1cfb3a4e8b23",
        "colab": {
          "base_uri": "https://localhost:8080/"
        }
      },
      "execution_count": 3,
      "outputs": [
        {
          "output_type": "stream",
          "name": "stdout",
          "text": [
            "mammal\n"
          ]
        }
      ]
    },
    {
      "cell_type": "code",
      "source": [
        "Rodger.fun()"
      ],
      "metadata": {
        "id": "F14olfZ_mYcC",
        "outputId": "5e00fa66-78dc-43aa-8e3a-60d8e7ae99a5",
        "colab": {
          "base_uri": "https://localhost:8080/"
        }
      },
      "execution_count": 4,
      "outputs": [
        {
          "output_type": "stream",
          "name": "stdout",
          "text": [
            "I'm a mammal\n",
            "I'm a dog\n"
          ]
        }
      ]
    },
    {
      "cell_type": "markdown",
      "source": [
        "The __init__() Function: Use the __init__() function to assign values to object properties, or other operations that are necessary to do when the object is being created:\n",
        "\n"
      ],
      "metadata": {
        "id": "8PdD9sronn6P"
      }
    },
    {
      "cell_type": "code",
      "source": [
        "class Person:\n",
        "  def __init__(self, name, age):\n",
        "    self.name = name\n",
        "    self.age = age\n",
        "\n",
        "p1 = Person(\"John\", 36)\n",
        "\n",
        "print(p1.name)\n",
        "print(p1.age)"
      ],
      "metadata": {
        "id": "J12zR25Ypm1Q",
        "outputId": "a98951eb-1719-4f49-8381-6ae3fcb79b7e",
        "colab": {
          "base_uri": "https://localhost:8080/"
        }
      },
      "execution_count": 5,
      "outputs": [
        {
          "output_type": "stream",
          "name": "stdout",
          "text": [
            "John\n",
            "36\n"
          ]
        }
      ]
    },
    {
      "cell_type": "code",
      "source": [
        "# Sample class with init method\n",
        "class Person:\n",
        "\n",
        "    # init method or constructor\n",
        "    def __init__(self, name):\n",
        "        self.name = name\n",
        "\n",
        "    # Sample Method\n",
        "    def say_hi(self):\n",
        "        print('Hello, my name is', self.name)\n",
        "\n",
        "\n",
        "p = Person('Nikhil')\n",
        "p.say_hi()"
      ],
      "metadata": {
        "id": "dEROCGA_p575",
        "outputId": "02f3c98a-c60f-485f-b488-1dd13ef78bdc",
        "colab": {
          "base_uri": "https://localhost:8080/"
        }
      },
      "execution_count": 6,
      "outputs": [
        {
          "output_type": "stream",
          "name": "stdout",
          "text": [
            "Hello, my name is Nikhil\n"
          ]
        }
      ]
    },
    {
      "cell_type": "code",
      "source": [
        "class Person:\n",
        "  def __init__(self, name, age):\n",
        "    self.name = name\n",
        "    self.age = age\n",
        "\n",
        "  def myfunc(self):\n",
        "    print(\"Hello my name is \" + self.name)\n",
        "\n",
        "p1 = Person(\"John\", 36)\n",
        "p1.myfunc()"
      ],
      "metadata": {
        "id": "Rq5BUKqxqzR8",
        "outputId": "1f14633c-e81a-450b-c709-ce4f27951678",
        "colab": {
          "base_uri": "https://localhost:8080/"
        }
      },
      "execution_count": 7,
      "outputs": [
        {
          "output_type": "stream",
          "name": "stdout",
          "text": [
            "Hello my name is John\n"
          ]
        }
      ]
    },
    {
      "cell_type": "code",
      "source": [
        "class Node():\n",
        "  def _init_(self,state,parent,action):\n",
        "    self.state = state\n",
        "    self.parent = parent\n",
        "    self.action = action"
      ],
      "metadata": {
        "id": "5vAEvYHrAABc"
      },
      "execution_count": 8,
      "outputs": []
    },
    {
      "cell_type": "code",
      "source": [
        "class StackFrontier():\n",
        "  def _init_(self):\n",
        "    self.frontier = []\n",
        "\n",
        "  def add(self, node):\n",
        "    self.frontier.append(node)\n",
        "\n",
        "  def contains_state(self, state):\n",
        "    return any(node.state==state for node in self.frontier)\n",
        "\n",
        "  def empty(self):\n",
        "    return len(self.frontier) ==0\n",
        "\n",
        "  def remove(self):\n",
        "    if self.empty():\n",
        "      raise Exception('empty frontier')\n",
        "    else:\n",
        "      node = self.frontier[-1]\n",
        "      self.frontier=self.frontier[:-1]\n",
        "      return node\n"
      ],
      "metadata": {
        "id": "Hzx8flWZAgT3"
      },
      "execution_count": 10,
      "outputs": []
    },
    {
      "cell_type": "code",
      "source": [
        "class QueueFrontier(StackFrontier):\n",
        "\n",
        "  def remove(self):\n",
        "    if self.empty():\n",
        "      raise Exception('empty frontier')\n",
        "    else:\n",
        "      node = self.frontier[0]\n",
        "      self.frontier = self.frontier[1:]\n",
        "      return node"
      ],
      "metadata": {
        "id": "zqxw87cfrRkp"
      },
      "execution_count": 15,
      "outputs": []
    },
    {
      "cell_type": "code",
      "source": [
        "class Maze():\n",
        "\n",
        "    def __init__(self, filename):\n",
        "\n",
        "        # Read file and set height and width of maze\n",
        "        with open(filename) as f:\n",
        "            contents = f.read()\n",
        "\n",
        "        # Validate start and goal\n",
        "        if contents.count(\"A\") != 1:\n",
        "            raise Exception(\"maze must have exactly one start point\")\n",
        "        if contents.count(\"B\") != 1:\n",
        "            raise Exception(\"maze must have exactly one goal\")\n",
        "\n",
        "        # Determine height and width of maze\n",
        "        contents = contents.splitlines()\n",
        "        self.height = len(contents)\n",
        "        self.width = max(len(line) for line in contents)\n",
        "\n",
        "        # Keep track of walls\n",
        "        self.walls = []\n",
        "        for i in range(self.height):\n",
        "            row = []\n",
        "            for j in range(self.width):\n",
        "                try:\n",
        "                    if contents[i][j] == \"A\":\n",
        "                        self.start = (i, j)\n",
        "                        row.append(False)\n",
        "                    elif contents[i][j] == \"B\":\n",
        "                        self.goal = (i, j)\n",
        "                        row.append(False)\n",
        "                    elif contents[i][j] == \" \":\n",
        "                        row.append(False)\n",
        "                    else:\n",
        "                        row.append(True)\n",
        "                except IndexError:\n",
        "                    row.append(False)\n",
        "            self.walls.append(row)\n",
        "\n",
        "        self.solution = None\n",
        "\n",
        "\n",
        "    def print(self):\n",
        "        solution = self.solution[1] if self.solution is not None else None\n",
        "        print()\n",
        "        for i, row in enumerate(self.walls):\n",
        "            for j, col in enumerate(row):\n",
        "                if col:\n",
        "                    print(\"█\", end=\"\")\n",
        "                elif (i, j) == self.start:\n",
        "                    print(\"A\", end=\"\")\n",
        "                elif (i, j) == self.goal:\n",
        "                    print(\"B\", end=\"\")\n",
        "                elif solution is not None and (i, j) in solution:\n",
        "                    print(\"*\", end=\"\")\n",
        "                else:\n",
        "                    print(\" \", end=\"\")\n",
        "            print()\n",
        "        print()\n",
        "\n",
        "\n",
        "    def neighbors(self, state):\n",
        "        row, col = state\n",
        "        candidates = [\n",
        "            (\"up\", (row - 1, col)),\n",
        "            (\"down\", (row + 1, col)),\n",
        "            (\"left\", (row, col - 1)),\n",
        "            (\"right\", (row, col + 1))\n",
        "        ]\n",
        "\n",
        "        result = []\n",
        "        for action, (r, c) in candidates:\n",
        "            if 0 <= r < self.height and 0 <= c < self.width and not self.walls[r][c]:\n",
        "                result.append((action, (r, c)))\n",
        "        return result\n",
        "\n",
        "    def solve(self):\n",
        "\n",
        "        # Keep track of number of states explored\n",
        "        self.num_explored = 0\n",
        "\n",
        "        # Initialize frontier to just the starting position\n",
        "        start = Node(state=self.start, parent=None, action=None)\n",
        "        frontier = StackFrontier()\n",
        "        frontier.add(start)\n",
        "\n",
        "        # Initialize an empty explored set\n",
        "        self.explored = set()\n",
        "\n",
        "        # Keep looping until solution found\n",
        "        while True:\n",
        "\n",
        "            # If nothing left in frontier, then no path\n",
        "            if frontier.empty():\n",
        "                raise Exception(\"no solution\")\n",
        "\n",
        "            # Choose a node from the frontier\n",
        "            node = frontier.remove()\n",
        "            self.num_explored += 1\n",
        "\n",
        "            # If node is the goal, then we have a solution\n",
        "            if node.state == self.goal:\n",
        "                actions = []\n",
        "                cells = []\n",
        "                while node.parent is not None:\n",
        "                    actions.append(node.action)\n",
        "                    cells.append(node.state)\n",
        "                    node = node.parent\n",
        "                actions.reverse()\n",
        "                cells.reverse()\n",
        "                self.solution = (actions, cells)\n",
        "                return\n",
        "\n",
        "            # Mark node as explored\n",
        "            self.explored.add(node.state)\n",
        "\n",
        "            # Add neighbors to frontier\n",
        "            for action, state in self.neighbors(node.state):\n",
        "                if not frontier.contains_state(state) and state not in self.explored:\n",
        "                    child = Node(state=state, parent=node, action=action)\n",
        "                    frontier.add(child)\n",
        "\n",
        "\n",
        "    def output_image(self, filename, show_solution=True, show_explored=False):\n",
        "        from PIL import Image, ImageDraw\n",
        "        cell_size = 50\n",
        "        cell_border = 2\n",
        "\n",
        "        # Create a blank canvas\n",
        "        img = Image.new(\n",
        "            \"RGBA\",\n",
        "            (self.width * cell_size, self.height * cell_size),\n",
        "            \"black\"\n",
        "        )\n",
        "        draw = ImageDraw.Draw(img)\n",
        "\n",
        "        solution = self.solution[1] if self.solution is not None else None\n",
        "        for i, row in enumerate(self.walls):\n",
        "            for j, col in enumerate(row):\n",
        "\n",
        "                # Walls\n",
        "                if col:\n",
        "                    fill = (40, 40, 40)\n",
        "\n",
        "                # Start\n",
        "                elif (i, j) == self.start:\n",
        "                    fill = (255, 0, 0)\n",
        "\n",
        "                # Goal\n",
        "                elif (i, j) == self.goal:\n",
        "                    fill = (0, 171, 28)\n",
        "\n",
        "                # Solution\n",
        "                elif solution is not None and show_solution and (i, j) in solution:\n",
        "                    fill = (220, 235, 113)\n",
        "\n",
        "                # Explored\n",
        "                elif solution is not None and show_explored and (i, j) in self.explored:\n",
        "                    fill = (212, 97, 85)\n",
        "\n",
        "                # Empty cell\n",
        "                else:\n",
        "                    fill = (237, 240, 252)\n",
        "\n",
        "                # Draw cell\n",
        "                draw.rectangle(\n",
        "                    ([(j * cell_size + cell_border, i * cell_size + cell_border),\n",
        "                      ((j + 1) * cell_size - cell_border, (i + 1) * cell_size - cell_border)]),\n",
        "                    fill=fill\n",
        "                )\n",
        "\n",
        "        img.save(filename)\n",
        "\n",
        "\n",
        "if len(sys.argv) != 2:\n",
        "    sys.exit(\"Usage: python maze.py maze.txt\")\n",
        "\n",
        "m = Maze(sys.argv[1])\n",
        "print(\"Maze:\")\n",
        "m.print()\n",
        "print(\"Solving...\")\n",
        "m.solve()\n",
        "print(\"States Explored:\", m.num_explored)\n",
        "print(\"Solution:\")\n",
        "m.print()\n",
        "m.output_image(\"maze.png\", show_explored=True)"
      ],
      "metadata": {
        "id": "oTyFVOSkwFNc",
        "outputId": "caa64aaa-38a1-4ed5-e79b-960143aca0c4",
        "colab": {
          "base_uri": "https://localhost:8080/",
          "height": 148
        }
      },
      "execution_count": 20,
      "outputs": [
        {
          "output_type": "error",
          "ename": "SystemExit",
          "evalue": "Usage: python maze.py maze.txt",
          "traceback": [
            "An exception has occurred, use %tb to see the full traceback.\n",
            "\u001b[0;31mSystemExit\u001b[0m\u001b[0;31m:\u001b[0m Usage: python maze.py maze.txt\n"
          ]
        },
        {
          "output_type": "stream",
          "name": "stderr",
          "text": [
            "/usr/local/lib/python3.10/dist-packages/IPython/core/interactiveshell.py:3561: UserWarning: To exit: use 'exit', 'quit', or Ctrl-D.\n",
            "  warn(\"To exit: use 'exit', 'quit', or Ctrl-D.\", stacklevel=1)\n"
          ]
        }
      ]
    },
    {
      "cell_type": "markdown",
      "source": [
        "# New Section"
      ],
      "metadata": {
        "id": "h1dG_KoOynca"
      }
    }
  ]
}