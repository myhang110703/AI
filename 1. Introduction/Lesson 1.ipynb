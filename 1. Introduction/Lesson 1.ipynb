{
  "nbformat": 4,
  "nbformat_minor": 0,
  "metadata": {
    "colab": {
      "provenance": [],
      "authorship_tag": "ABX9TyOqbLw7neOVZEHYY7q+N8mK",
      "include_colab_link": true
    },
    "kernelspec": {
      "name": "python3",
      "display_name": "Python 3"
    },
    "language_info": {
      "name": "python"
    }
  },
  "cells": [
    {
      "cell_type": "markdown",
      "metadata": {
        "id": "view-in-github",
        "colab_type": "text"
      },
      "source": [
        "<a href=\"https://colab.research.google.com/github/myhang110703/AI/blob/main/1.%20Introduction/Lesson%201.ipynb\" target=\"_parent\"><img src=\"https://colab.research.google.com/assets/colab-badge.svg\" alt=\"Open In Colab\"/></a>"
      ]
    },
    {
      "cell_type": "code",
      "execution_count": null,
      "metadata": {
        "id": "auBBDxvqwbqp"
      },
      "outputs": [],
      "source": []
    },
    {
      "cell_type": "code",
      "source": [
        "r"
      ],
      "metadata": {
        "id": "dhHV_e4Hwv1R"
      },
      "execution_count": null,
      "outputs": []
    },
    {
      "cell_type": "markdown",
      "source": [
        "# `Search problems`\n",
        "agent: entity that perceives its environment and acts upon that environment\n",
        "\n",
        "state: a configuration of the agent and its environment\n",
        "\n",
        "initial state: the state where the agent begins\n",
        "\n",
        "actions: choices that can be made in a state. ACTIONS(X) returns the set of actions that can be executed in state s\n",
        "\n",
        "transition model: a description of what state results from performing any applicable action in any state. RESULT(S,a) returns the state resulting from performing action a in state s\n",
        "\n",
        "state space: the set of all states reachable from the initial state by any sequence of actions\n",
        "\n",
        "goal test: way to determine whether a given state is a goal state\n",
        "\n",
        "path cost: numerical cost associtated with a given path\n",
        "\n",
        "solution: a solution that has the lowest path cost among all solutions\n",
        "\n",
        "node: a data structure that keeps track of\n",
        "- a state\n",
        "- a parent (node that generated this node)\n",
        "- an action (action applied to parent to get node)\n",
        "- a path cost (from inital state to node)\n",
        "\n",
        "approach:\n",
        "start with a frontier that contains the initial state\n",
        "repeat:\n",
        "  If the frontier is empty, then no soultions\n",
        "  remove a node from the frontier\n",
        "  if that node contains goal state, return the solution\n",
        "  expand node, add resulting nodes to the frontier\n",
        "\n",
        "revised approach:\n",
        "start with a frontier that contains the initial state\n",
        "start with an empty explored set\n",
        "repeat:\n",
        "  If the frontier is empty, then no soultion\n",
        "  Remove a node from the frontier\n",
        "  If node contains goal state, return the solution\n",
        "  expand node, add resulting nodes to the frontier if they aren;t already in the frontier or the explored set\n",
        "\n",
        "stack:\n",
        "last in first out data type\n",
        "\n",
        "Depth-first search:\n",
        "search algorithm that always expands the deepest node in the frontier\n",
        "\n",
        "Breadth-first search: always expands the shallowest node in the frontier\n",
        "\n",
        "queue: first in first out data type\n",
        "\n"
      ],
      "metadata": {
        "id": "YDnX8qtmwuRZ"
      }
    },
    {
      "cell_type": "markdown",
      "source": [],
      "metadata": {
        "id": "uUSI7zoOwtm9"
      }
    },
    {
      "cell_type": "markdown",
      "source": [],
      "metadata": {
        "id": "li_P1aQKwciK"
      }
    },
    {
      "cell_type": "code",
      "source": [
        "import sys"
      ],
      "metadata": {
        "id": "c4-palDp_5gJ"
      },
      "execution_count": 1,
      "outputs": []
    },
    {
      "cell_type": "code",
      "source": [
        "class Node():\n",
        "  def _init_(self,state,parent,action):\n",
        "    self.state = state\n",
        "    self.parent = parent\n",
        "    self.action = action"
      ],
      "metadata": {
        "id": "5vAEvYHrAABc"
      },
      "execution_count": 2,
      "outputs": []
    },
    {
      "cell_type": "code",
      "source": [
        "class StackFrontier():\n",
        "  def _init_(self):\n",
        "    self.frontier = []\n",
        "\n",
        "  def add(self, node):\n",
        "    self.frontier.append(node)\n",
        ""
      ],
      "metadata": {
        "id": "Hzx8flWZAgT3"
      },
      "execution_count": null,
      "outputs": []
    }
  ]
}